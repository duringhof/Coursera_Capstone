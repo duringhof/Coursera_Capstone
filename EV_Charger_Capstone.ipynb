{
    "nbformat_minor": 1, 
    "cells": [
        {
            "source": "# EV Charge point locations\n## IBM Data Science Capstone\n<I>Hans-Martin Duringhof</I>\n\nThis notebook is going to be used for the capstone project for IBM's Applied Data Science Capstone Project course on Coursera", 
            "cell_type": "markdown", 
            "metadata": {}
        }, 
        {
            "source": "---\n## Introduction\nWith the upcoming rise of EV (Electric Vehicle) adoption, a EV charging service provider in Sweden want to understund the current placement of EV charging locations in the country, and compare them to Norway, a country where EV adoption has been faster than virtually any other country. Based on the distribution of charge points in Norway, their distances to eachother and to other services (like restaurants and shopping), all compared to the current situation in Sweden; a recommendation is sought on where to start installing new charge points.\n\n### Data needed\nAt the heart of the solution will be the foursquare location category \"EV Charging Station\", together with distances to other venues that could be of intererst to EV owners charging their car (restaurants, shopping, playgrounds etc...). This data will be analysed for at least the capitals Stockholm and Oslo, and potentially the whole countries.", 
            "cell_type": "markdown", 
            "metadata": {}
        }, 
        {
            "source": "---\n### Installing necessary packages and importing libraries", 
            "cell_type": "markdown", 
            "metadata": {}
        }, 
        {
            "execution_count": null, 
            "cell_type": "code", 
            "metadata": {}, 
            "outputs": [], 
            "source": ""
        }
    ], 
    "metadata": {
        "kernelspec": {
            "display_name": "Python 3.6", 
            "name": "python3", 
            "language": "python"
        }, 
        "language_info": {
            "mimetype": "text/x-python", 
            "nbconvert_exporter": "python", 
            "version": "3.6.8", 
            "name": "python", 
            "file_extension": ".py", 
            "pygments_lexer": "ipython3", 
            "codemirror_mode": {
                "version": 3, 
                "name": "ipython"
            }
        }
    }, 
    "nbformat": 4
}